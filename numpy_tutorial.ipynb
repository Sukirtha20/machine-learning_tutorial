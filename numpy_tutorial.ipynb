{
 "cells": [
  {
   "cell_type": "code",
   "execution_count": null,
   "id": "2441fd5d",
   "metadata": {},
   "outputs": [],
   "source": [
    "pip install numpy"
   ]
  },
  {
   "cell_type": "code",
   "execution_count": null,
   "id": "06ff03d0",
   "metadata": {},
   "outputs": [],
   "source": [
    "import numpy as np"
   ]
  },
  {
   "cell_type": "code",
   "execution_count": null,
   "id": "99c7143f",
   "metadata": {},
   "outputs": [],
   "source": [
    "data_1d=np.array([1,2,3,4])"
   ]
  },
  {
   "cell_type": "code",
   "execution_count": null,
   "id": "910e4bb7",
   "metadata": {},
   "outputs": [],
   "source": [
    "data_2d=np.array([[1,2,3],[4,5,6]])"
   ]
  },
  {
   "cell_type": "code",
   "execution_count": null,
   "id": "d57afd6c",
   "metadata": {},
   "outputs": [],
   "source": [
    "print(data_1d.shape)"
   ]
  },
  {
   "cell_type": "code",
   "execution_count": null,
   "id": "84b1df23",
   "metadata": {},
   "outputs": [],
   "source": [
    "print(data_2d.shape)"
   ]
  },
  {
   "cell_type": "code",
   "execution_count": null,
   "id": "9b15965c",
   "metadata": {},
   "outputs": [],
   "source": [
    "reshape_Arr=data_2d.reshape(3,2)\n",
    "reshape_Arr"
   ]
  },
  {
   "cell_type": "code",
   "execution_count": null,
   "id": "0c0095bf",
   "metadata": {},
   "outputs": [],
   "source": [
    "print(data_2d.ndim)"
   ]
  },
  {
   "cell_type": "code",
   "execution_count": null,
   "id": "38d47a9f",
   "metadata": {},
   "outputs": [],
   "source": [
    "a=np.array([1,2,3])\n",
    "b=np.array([4,5,6])"
   ]
  },
  {
   "cell_type": "code",
   "execution_count": null,
   "id": "1348acb1",
   "metadata": {},
   "outputs": [],
   "source": [
    "addition=a+b\n",
    "addition"
   ]
  },
  {
   "cell_type": "code",
   "execution_count": null,
   "id": "bdb8a720",
   "metadata": {},
   "outputs": [],
   "source": [
    "multiplication=a*b\n",
    "multiplication\n"
   ]
  },
  {
   "cell_type": "code",
   "execution_count": null,
   "id": "26e76599",
   "metadata": {},
   "outputs": [],
   "source": [
    "exp_a=np.exp(a)\n",
    "exp_a"
   ]
  },
  {
   "cell_type": "code",
   "execution_count": null,
   "id": "b856dc86",
   "metadata": {},
   "outputs": [],
   "source": [
    "log_b=np.log(b)\n",
    "log_b"
   ]
  },
  {
   "cell_type": "code",
   "execution_count": null,
   "id": "50e90d23",
   "metadata": {},
   "outputs": [],
   "source": [
    "print(data_1d[:3])"
   ]
  },
  {
   "cell_type": "code",
   "execution_count": null,
   "id": "3b5333c0",
   "metadata": {},
   "outputs": [],
   "source": [
    "data_2d"
   ]
  },
  {
   "cell_type": "code",
   "execution_count": null,
   "id": "7a4cfc30",
   "metadata": {},
   "outputs": [],
   "source": [
    "print(data_2d[:,1:])"
   ]
  }
 ],
 "metadata": {
  "kernelspec": {
   "display_name": "Python 3",
   "language": "python",
   "name": "python3"
  },
  "language_info": {
   "codemirror_mode": {
    "name": "ipython",
    "version": 3
   },
   "file_extension": ".py",
   "mimetype": "text/x-python",
   "name": "python",
   "nbconvert_exporter": "python",
   "pygments_lexer": "ipython3",
   "version": "3.10.10"
  }
 },
 "nbformat": 4,
 "nbformat_minor": 5
}
